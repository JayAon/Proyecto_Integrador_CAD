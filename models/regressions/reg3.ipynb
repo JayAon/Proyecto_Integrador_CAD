{
 "cells": [
  {
   "cell_type": "code",
   "execution_count": 1,
   "id": "c90409cc",
   "metadata": {},
   "outputs": [
    {
     "name": "stdout",
     "output_type": "stream",
     "text": [
      "Archivo cargado correctamente desde ../../data/BASE DE DATOS PCC_cleaned.xlsx\n"
     ]
    }
   ],
   "source": [
    "import sys\n",
    "import os\n",
    "\n",
    "sys.path.append(os.path.abspath('../package'))\n",
    "%load_ext autoreload\n",
    "%autoreload 2\n",
    "\n",
    "from functions.data_loader import load_excel_data\n",
    "file = \"../../data/BASE DE DATOS PCC_cleaned.xlsx\"\n",
    "df_char = load_excel_data(file)"
   ]
  },
  {
   "cell_type": "code",
   "execution_count": 15,
   "id": "7241e911",
   "metadata": {},
   "outputs": [
    {
     "name": "stdout",
     "output_type": "stream",
     "text": [
      "Data prepared: 14608 training samples, 3653 test samples.\n",
      "Categorical features encoded: ['referencia', 'seccion', 'maquina', 'proceso', 'usuario', 'dia_semana_inicio', 'estado']\n"
     ]
    }
   ],
   "source": [
    "\n",
    "from functions.data_preparation import prepare_regression_data\n",
    "\n",
    "features = {\n",
    "    'pedido': 'numeric',\n",
    "    'op': 'numeric',\n",
    "    'referencia': 'categorical',\n",
    "    'seccion': 'categorical',\n",
    "    'maquina': 'categorical',\n",
    "    'proceso': 'categorical',\n",
    "    'usuario': 'categorical',\n",
    "    'fabricadas': 'numeric',\n",
    "    'hora_inicio': 'numeric',\n",
    "    'dia_semana_inicio': 'categorical',\n",
    "    'estado': 'categorical'\n",
    "}\n",
    "\n",
    "X_train, X_test, y_train, y_test, encoder, scaler = prepare_regression_data(df_char,features,\"duracion_min\")"
   ]
  },
  {
   "cell_type": "code",
   "execution_count": 18,
   "id": "83c07c3a",
   "metadata": {},
   "outputs": [
    {
     "name": "stdout",
     "output_type": "stream",
     "text": [
      "Varianza explicada acumulada por cada componente:\n",
      "Componente 1: 0.9978\n",
      "Componente 2: 0.9994\n",
      "Componente 3: 0.9997\n",
      "Componente 4: 0.9998\n",
      "Componente 5: 0.9999\n",
      "Componente 6: 1.0000\n",
      "Componente 7: 1.0000\n",
      "Componente 8: 1.0000\n",
      "Componente 9: 1.0000\n",
      "Componente 10: 1.0000\n",
      "Componente 11: 1.0000\n",
      "Se eligen 2 componentes para explicar el 99.9% de la varianza\n"
     ]
    }
   ],
   "source": [
    "import numpy as np\n",
    "from sklearn.decomposition import PCA\n",
    "\n",
    "pca = PCA()\n",
    "pca.fit(X_train)\n",
    "\n",
    "#Get the explained variance ratio for each component\n",
    "var_exp_acum = np.cumsum(pca.explained_variance_ratio_)\n",
    "#Print the explained variance ratio\n",
    "print(\"Varianza explicada acumulada por cada componente:\")\n",
    "for i, var in enumerate(var_exp_acum):\n",
    "    print(f\"Componente {i+1}: {var:.4f}\")\n",
    "threshold = 0.999\n",
    "#Select the number of components that explain at least 95% of the variance\n",
    "n_components = np.argmax(var_exp_acum >=threshold) + 1\n",
    "print(f\"Se eligen {n_components} componentes para explicar el {round(threshold*100,2)}% de la varianza\")"
   ]
  },
  {
   "cell_type": "code",
   "execution_count": 19,
   "id": "ecc890af",
   "metadata": {},
   "outputs": [],
   "source": [
    "#Adjust PCA with the selected number of components\n",
    "pca_final = PCA(n_components=n_components)\n",
    "X_train_pca = pca_final.fit_transform(X_train)\n",
    "X_test_pca = pca_final.transform(X_test)"
   ]
  },
  {
   "cell_type": "code",
   "execution_count": 20,
   "id": "fd7b3b58",
   "metadata": {},
   "outputs": [],
   "source": [
    "from sklearn.ensemble import GradientBoostingRegressor, RandomForestRegressor\n",
    "from sklearn.linear_model import Lasso, LinearRegression, Ridge\n",
    "from sklearn.neighbors import KNeighborsRegressor\n",
    "models = {\n",
    "    'LinearRegression': {\n",
    "        'model': LinearRegression(),\n",
    "        'params': {}\n",
    "    },\n",
    "    'Lasso': {\n",
    "        'model': Lasso(),\n",
    "        'params': {\n",
    "            'alpha': [0.001, 0.01, 0.1, 1.0, 10.0]\n",
    "        }\n",
    "    },\n",
    "    'Ridge': {\n",
    "        'model': Ridge(),\n",
    "        'params': {\n",
    "            'alpha': [0.01, 0.1, 1.0, 10.0, 100.0]\n",
    "        }\n",
    "    },\n",
    "    'RandomForest': {\n",
    "        'model': RandomForestRegressor(random_state=42),\n",
    "        'params': {\n",
    "            'n_estimators': [50, 100],\n",
    "            'max_depth': [None, 10, 20],\n",
    "            'min_samples_split': [2, 5]\n",
    "        }\n",
    "    },\n",
    "    'GradientBoosting': {\n",
    "        'model': GradientBoostingRegressor(random_state=42),\n",
    "        'params': {\n",
    "            'n_estimators': [50, 100],\n",
    "            'learning_rate': [0.05, 0.1],\n",
    "            'max_depth': [3, 5]\n",
    "        }\n",
    "    },\n",
    "    'KNN': {\n",
    "        'model': KNeighborsRegressor(),\n",
    "        'params': {\n",
    "            'n_neighbors': [1,3, 5, 7, 9, 11,15,20,25,30,35,40],\n",
    "            'weights': ['uniform', 'distance'],\n",
    "            'p': [1, 2]  # 1 = Manhattan, 2 = Euclidean\n",
    "        }\n",
    "    }\n",
    "}"
   ]
  },
  {
   "cell_type": "code",
   "execution_count": 21,
   "id": "a074fd56",
   "metadata": {},
   "outputs": [
    {
     "name": "stdout",
     "output_type": "stream",
     "text": [
      "Evaluating: LinearRegression\n",
      "Best Params                 {}\n",
      "RMSE CV              53.544747\n",
      "MAE CV                39.36807\n",
      "R2 CV                 0.005342\n",
      "RMSE Test            54.554741\n",
      "MAE Test             40.271309\n",
      "R2 Test               0.008072\n",
      "Training Time (s)     3.112656\n",
      "dtype: object\n",
      "\n",
      "==================================================\n",
      "\n",
      "Evaluating: Lasso\n",
      "Best Params          {'alpha': 10.0}\n",
      "RMSE CV                    53.535504\n",
      "MAE CV                      39.36289\n",
      "R2 CV                       0.005686\n",
      "RMSE Test                  54.547829\n",
      "MAE Test                   40.265374\n",
      "R2 Test                     0.008323\n",
      "Training Time (s)           2.247326\n",
      "dtype: object\n",
      "\n",
      "==================================================\n",
      "\n",
      "Evaluating: Ridge\n",
      "Best Params          {'alpha': 100.0}\n",
      "RMSE CV                     53.544746\n",
      "MAE CV                      39.368069\n",
      "R2 CV                        0.005342\n",
      "RMSE Test                    54.55474\n",
      "MAE Test                    40.271308\n",
      "R2 Test                      0.008072\n",
      "Training Time (s)            0.075742\n",
      "dtype: object\n",
      "\n",
      "==================================================\n",
      "\n",
      "Evaluating: RandomForest\n",
      "Best Params          {'max_depth': 10, 'min_samples_split': 5, 'n_e...\n",
      "RMSE CV                                                      50.716713\n",
      "MAE CV                                                       36.639955\n",
      "R2 CV                                                         0.107636\n",
      "RMSE Test                                                    51.228311\n",
      "MAE Test                                                      37.30961\n",
      "R2 Test                                                       0.125348\n",
      "Training Time (s)                                            21.135611\n",
      "dtype: object\n",
      "\n",
      "==================================================\n",
      "\n",
      "Evaluating: GradientBoosting\n",
      "Best Params          {'learning_rate': 0.1, 'max_depth': 5, 'n_esti...\n",
      "RMSE CV                                                      50.300598\n",
      "MAE CV                                                       36.363912\n",
      "R2 CV                                                         0.122219\n",
      "RMSE Test                                                    50.183686\n",
      "MAE Test                                                     36.585559\n",
      "R2 Test                                                       0.160655\n",
      "Training Time (s)                                              7.83064\n",
      "dtype: object\n",
      "\n",
      "==================================================\n",
      "\n",
      "Evaluating: KNN\n",
      "Best Params          {'n_neighbors': 40, 'p': 1, 'weights': 'uniform'}\n",
      "RMSE CV                                                      51.994123\n",
      "MAE CV                                                       38.221769\n",
      "R2 CV                                                         0.062117\n",
      "RMSE Test                                                    52.910844\n",
      "MAE Test                                                     39.091101\n",
      "R2 Test                                                       0.066951\n",
      "Training Time (s)                                             0.817086\n",
      "dtype: object\n",
      "\n",
      "==================================================\n",
      "\n"
     ]
    }
   ],
   "source": [
    "from functions.model_evaluation import evaluate_regression_models\n",
    "# Filter X_train and X_test to keep only features selected by OLS\n",
    "\n",
    "tuned_results, summary_metrics, all_grid,best_models = evaluate_regression_models(\n",
    "    models,\n",
    "    X_train_pca, y_train,\n",
    "    X_test=X_test_pca,\n",
    "    y_test=y_test,\n",
    "    scoring=\"neg_root_mean_squared_error\",\n",
    "    cv=5\n",
    ")"
   ]
  }
 ],
 "metadata": {
  "kernelspec": {
   "display_name": "Python 3",
   "language": "python",
   "name": "python3"
  },
  "language_info": {
   "codemirror_mode": {
    "name": "ipython",
    "version": 3
   },
   "file_extension": ".py",
   "mimetype": "text/x-python",
   "name": "python",
   "nbconvert_exporter": "python",
   "pygments_lexer": "ipython3",
   "version": "3.10.4"
  }
 },
 "nbformat": 4,
 "nbformat_minor": 5
}
